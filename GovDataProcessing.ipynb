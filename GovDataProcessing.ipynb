{
 "cells": [
  {
   "cell_type": "code",
   "execution_count": null,
   "metadata": {},
   "outputs": [],
   "source": [
    "# processing us_project_data.csv to make it ready\n",
    "# for analysis by addressing data quality issues"
   ]
  },
  {
   "cell_type": "code",
   "execution_count": null,
   "metadata": {},
   "outputs": [],
   "source": [
    "import pandas as pd"
   ]
  },
  {
   "cell_type": "code",
   "execution_count": null,
   "metadata": {},
   "outputs": [],
   "source": [
    "df = pd.read_csv(\"~/Desktop/us_project_data.csv\")"
   ]
  },
  {
   "cell_type": "code",
   "execution_count": null,
   "metadata": {},
   "outputs": [],
   "source": [
    "# Team 1\n",
    "#\n",
    "# Remove the \"Total\" rows found in the \"Unique Investment Identifier\"\n",
    "# column"
   ]
  },
  {
   "cell_type": "code",
   "execution_count": null,
   "metadata": {},
   "outputs": [],
   "source": [
    "# Team 2\n",
    "#\n",
    "# There are several columns with dates including:\n",
    "# \"Start Date\"\n",
    "# \"Completion Date (B1)\"\n",
    "# \"Planned Project Completion Date (B2)\"\n",
    "# \"Projected/Actual Project Completion Date (B2)\"\n",
    "# \"Updated Date\"\n",
    "#\n",
    "# Each of these dates appears to be formatted day/month/year\n",
    "# The standard way to represent dates within pandas is\n",
    "# \"yyyy-mm-dd\"\n",
    "# \n",
    "# Add a new column for each of these variables and use\n",
    "# the new variable name mappings below:\n",
    "#\n",
    "# There are several columns with dates including:\n",
    "# \"Start Date\" => \"start_date\"\n",
    "# \"Completion Date (B1)\" => \"completion_date\"\n",
    "# \"Planned Project Completion Date (B2)\" => \"planned_date\"\n",
    "# \"Projected/Actual Project Completion Date (B2)\" => \"projected_date\"\n",
    "# \"Updated Date\" => \"updated_date\"\n",
    "#\n"
   ]
  },
  {
   "cell_type": "code",
   "execution_count": null,
   "metadata": {},
   "outputs": [],
   "source": [
    "# Team 3\n",
    "#\n",
    "# Reformat the string columns to remove content that may be\n",
    "# problematic for natural language processing later.  Go through\n",
    "# the following colums:\n",
    "#\n",
    "# \"Investment Title\"\n",
    "# \"Project Name\"\n",
    "# \"Project Description\"\n",
    "# \n",
    "# remove instances of \"$\", \"/\", \"\\\", \"&amp\", \"&\"\n",
    "# be sure to keep case, \".\", \"(\", \")\", \";\", and \",\"\n",
    "# create new variables according to the mapping below:\n",
    "#\n",
    "# \"Investment Title\" => \"title\"\n",
    "# \"Project Name\" => \"name\"\n",
    "# \"Project Description\" => \"description\"\n",
    "\n"
   ]
  },
  {
   "cell_type": "code",
   "execution_count": null,
   "metadata": {},
   "outputs": [],
   "source": [
    "# Team 4\n",
    "#\n",
    "# Create a completed column based on the updated date\n",
    "#\n",
    "# The new column in the dataframed called \"completed\"\n",
    "# is a binary variable that is 1 if the \"updated_date\"\n",
    "# is later than \"projected_date\" based on Team 2's processing.\n",
    "# The idea is to have a variable to know if the project is\n",
    "# ongoing (i.e. completed=0) or done (i.e. completed=1)"
   ]
  },
  {
   "cell_type": "code",
   "execution_count": null,
   "metadata": {},
   "outputs": [],
   "source": [
    "# Team 5\n",
    "#\n",
    "# Create dummy variables for each agency below.  The value\n",
    "# in that column is \"1\" if the agency is true and \"0\" if it\n",
    "# is not that agency\n",
    "# Department of Agriculture\n",
    "# Department of Commerce\n",
    "# Department of Defense\n",
    "# Department of Education\n",
    "# Department of Energy\n",
    "# Department of Health and Human Services\n",
    "# Department of Homeland Security\n",
    "# Department of Housing and Urban Development\n",
    "# Department of Justice\n",
    "# Department of Labor\n",
    "# Department of State\n",
    "# Department of the Interior\n",
    "# Department of the Treasury\n",
    "# Department of Transportation\n",
    "# Department of Veterans Affairs\n",
    "# Environmental Protection Agency\n",
    "# General Services Administration\n",
    "# National Aeronautics and Space Administration\n",
    "# National Archives and Records Administration\n",
    "# National Science Foundation\n",
    "# Nuclear Regulatory Commission\n",
    "# Office of Personnel Management\n",
    "# Small Business Administration\n",
    "# Social Security Administration\n",
    "# U.S. Agency for International Development\n",
    "# U.S. Army Corps of Engineers\n",
    "#"
   ]
  },
  {
   "cell_type": "code",
   "execution_count": null,
   "metadata": {},
   "outputs": [],
   "source": [
    "# Team 6\n",
    "#\n",
    "# Create a new variable called \"flag\"\n",
    "# the default value of this variable is 0 but it\n",
    "# will change to 1 if a potential issue or error is\n",
    "# found in processing the data"
   ]
  },
  {
   "cell_type": "code",
   "execution_count": null,
   "metadata": {},
   "outputs": [],
   "source": [
    "# Team 7\n",
    "#\n",
    "# Check to see if the number of days between \"planned_date\"\n",
    "# and \"projected\" date is the same as the column\n",
    "# \"Schedule Variance (in days)\".  There are a few conditions\n",
    "# that might be the case:\n",
    "#\n",
    "# if \"planned_date\" and/or \"projected_date\" is missing,\n",
    "# do not do the computation and assume whatever is reported\n",
    "# in \"Schedule Variance (in days)\" is correct; leave the\n",
    "# \"flag\" variable alone\n",
    "# \n",
    "# if \"planned_date\" and \"projected_date\" is there, check\n",
    "# to see if the difference between these two is the same\n",
    "# as the value reported in \"Schedule Variance (in days)\".\n",
    "# if it is the same, leave the \"flag\" variable alone.\n",
    "# However, if the difference is not the same as what is\n",
    "# reported, change the \"flag\" variable to 1\n",
    "#\n",
    "# next, the team should check to see that the value reported\n",
    "# in \"Schedule Variance (%)\" is correct as well\n",
    "# this should be the \"Schedule Variance (in days)\" divided\n",
    "# by \"completion_date\" - \"start_date\".  If it is not, then\n",
    "# change the \"flag\" variable to 1"
   ]
  },
  {
   "cell_type": "code",
   "execution_count": null,
   "metadata": {},
   "outputs": [],
   "source": [
    "# Team 8\n",
    "#\n",
    "# Confirm that the computations are correct for the following\n",
    "# variables:\n",
    "# \n",
    "# \"Cost Variance ($ M)\" = \n",
    "# \"Projected/Actual Cost ($ M)\" - Planned Cost ($ M)\"\n",
    "#\n",
    "# \"Cost Variance (%)\" - \n",
    "# \"Cost Variance ($ M\")/\"Planned Cost ($ M)\"\n",
    "#\n",
    "# if these things are not true, then change the flag bit to 1\n",
    "# for this observation\n"
   ]
  },
  {
   "cell_type": "code",
   "execution_count": null,
   "metadata": {},
   "outputs": [],
   "source": [
    "# Team 9\n",
    "#\n",
    "# Make sure that the values contained in \"Unique Project ID\"\n",
    "# Are, in fact, unique.  If they are not unique, then change\n",
    "# the flag bit to 1\n",
    "#"
   ]
  },
  {
   "cell_type": "code",
   "execution_count": null,
   "metadata": {},
   "outputs": [],
   "source": [
    "# Now that we have processed all of the data, how many\n",
    "# rows in the dataframe have a flag of 0 and how many\n",
    "# have a flag of 1?\n",
    "print(\"Number of non-flagged rows: \",len(df[df['flag']==0]))\n",
    "print(\"Number of flagged rows: \",len(df[df['flag']==1]))"
   ]
  },
  {
   "cell_type": "code",
   "execution_count": null,
   "metadata": {},
   "outputs": [],
   "source": []
  }
 ],
 "metadata": {
  "kernelspec": {
   "display_name": "Python 3",
   "language": "python",
   "name": "python3"
  },
  "language_info": {
   "codemirror_mode": {
    "name": "ipython",
    "version": 3
   },
   "file_extension": ".py",
   "mimetype": "text/x-python",
   "name": "python",
   "nbconvert_exporter": "python",
   "pygments_lexer": "ipython3",
   "version": "3.8.3"
  }
 },
 "nbformat": 4,
 "nbformat_minor": 4
}
