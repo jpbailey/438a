{
 "cells": [
  {
   "cell_type": "code",
   "execution_count": 1,
   "metadata": {},
   "outputs": [],
   "source": [
    "# !pip install --upgrade pip # just in case you need to install or upgrade pip\n",
    "# !pip install statsmodels --upgrade # installing statsmodels if you don't have it already\n",
    "import pandas as pd # we've seen pandas before\n",
    "import statsmodels.api as sm # this is the modeling library that we will use"
   ]
  },
  {
   "cell_type": "code",
   "execution_count": 2,
   "metadata": {},
   "outputs": [],
   "source": [
    "# be sure to have the csv file questselections18.csv in the same directory as this ipynb\n",
    "df = pd.read_csv(\"~/Desktop/questselections18.csv\")"
   ]
  },
  {
   "cell_type": "code",
   "execution_count": 3,
   "metadata": {},
   "outputs": [
    {
     "data": {
      "text/html": [
       "<div>\n",
       "<style scoped>\n",
       "    .dataframe tbody tr th:only-of-type {\n",
       "        vertical-align: middle;\n",
       "    }\n",
       "\n",
       "    .dataframe tbody tr th {\n",
       "        vertical-align: top;\n",
       "    }\n",
       "\n",
       "    .dataframe thead th {\n",
       "        text-align: right;\n",
       "    }\n",
       "</style>\n",
       "<table border=\"1\" class=\"dataframe\">\n",
       "  <thead>\n",
       "    <tr style=\"text-align: right;\">\n",
       "      <th></th>\n",
       "      <th>id</th>\n",
       "      <th>credits</th>\n",
       "      <th>gpa</th>\n",
       "      <th>school</th>\n",
       "      <th>score</th>\n",
       "      <th>interview</th>\n",
       "    </tr>\n",
       "  </thead>\n",
       "  <tbody>\n",
       "    <tr>\n",
       "      <td>0</td>\n",
       "      <td>1757</td>\n",
       "      <td>15</td>\n",
       "      <td>3.55</td>\n",
       "      <td>CMNS</td>\n",
       "      <td>3.5</td>\n",
       "      <td>1</td>\n",
       "    </tr>\n",
       "    <tr>\n",
       "      <td>1</td>\n",
       "      <td>1760</td>\n",
       "      <td>15</td>\n",
       "      <td>4.00</td>\n",
       "      <td>CMNS</td>\n",
       "      <td>4.0</td>\n",
       "      <td>1</td>\n",
       "    </tr>\n",
       "    <tr>\n",
       "      <td>2</td>\n",
       "      <td>1761</td>\n",
       "      <td>15</td>\n",
       "      <td>3.45</td>\n",
       "      <td>Clark</td>\n",
       "      <td>4.5</td>\n",
       "      <td>1</td>\n",
       "    </tr>\n",
       "    <tr>\n",
       "      <td>3</td>\n",
       "      <td>1762</td>\n",
       "      <td>18</td>\n",
       "      <td>3.40</td>\n",
       "      <td>Clark</td>\n",
       "      <td>4.5</td>\n",
       "      <td>1</td>\n",
       "    </tr>\n",
       "    <tr>\n",
       "      <td>4</td>\n",
       "      <td>1763</td>\n",
       "      <td>19</td>\n",
       "      <td>3.38</td>\n",
       "      <td>Smith</td>\n",
       "      <td>2.5</td>\n",
       "      <td>0</td>\n",
       "    </tr>\n",
       "  </tbody>\n",
       "</table>\n",
       "</div>"
      ],
      "text/plain": [
       "     id  credits   gpa school  score  interview\n",
       "0  1757       15  3.55   CMNS    3.5          1\n",
       "1  1760       15  4.00   CMNS    4.0          1\n",
       "2  1761       15  3.45  Clark    4.5          1\n",
       "3  1762       18  3.40  Clark    4.5          1\n",
       "4  1763       19  3.38  Smith    2.5          0"
      ]
     },
     "execution_count": 3,
     "metadata": {},
     "output_type": "execute_result"
    }
   ],
   "source": [
    "# we begin with a simple examination of the first few rows of the dataframe\n",
    "# notice that there are six columns, which I define here:\n",
    "#\n",
    "# id (Ordinal) - a unique identifier for each application received by QUEST in 2018\n",
    "# note that applications that are received earlier have lower id scores\n",
    "# some id's are missing because a student may have started an application but\n",
    "# didn't submit it\n",
    "#\n",
    "# credits (Ratio) - an integer that is a count of the number of college credits an\n",
    "# applicant has when they submit their application.  Note that the number of credits\n",
    "# may be greater than zero even when a student applies in the fall semester because\n",
    "# of AP or similar credits they bring to the University of Maryland\n",
    "#\n",
    "# gpa (Ratio) - what is the current college gpa of the applicant\n",
    "#\n",
    "# school (Nominal) - this can be \"CMNS\" or \"Clark\" or \"Smith\"\n",
    "#\n",
    "# score (Interval) - what is the average score of the quality of the application based on alumni\n",
    "# and current student reviewers\n",
    "#\n",
    "# interview (Ordinal or Categorical?) - a binary variable that is '1' if the applicant is invited to come and interview\n",
    "# and '0' if the applicant is not invited\n",
    "\n",
    "df.head()"
   ]
  },
  {
   "cell_type": "code",
   "execution_count": 5,
   "metadata": {},
   "outputs": [
    {
     "data": {
      "text/plain": [
       "<matplotlib.axes._subplots.AxesSubplot at 0x7f9e68cd5cd0>"
      ]
     },
     "execution_count": 5,
     "metadata": {},
     "output_type": "execute_result"
    },
    {
     "data": {
      "image/png": "[encoded data removed]",
      "text/plain": [
       "<Figure size 432x288 with 1 Axes>"
      ]
     },
     "metadata": {
      "needs_background": "light"
     },
     "output_type": "display_data"
    }
   ],
   "source": [
    "df['gpa'].plot.kde()"
   ]
  },
  {
   "cell_type": "code",
   "execution_count": 6,
   "metadata": {},
   "outputs": [],
   "source": [
    "# you might recall that there are some GPAs reported as zero (3 of them)\n",
    "# therefore, we want to drop the rows where this is the case\n",
    "df=df[df['gpa'] != 0]"
   ]
  },
  {
   "cell_type": "code",
   "execution_count": 14,
   "metadata": {},
   "outputs": [
    {
     "data": {
      "text/plain": [
       "dtype('float64')"
      ]
     },
     "execution_count": 14,
     "metadata": {},
     "output_type": "execute_result"
    }
   ],
   "source": [
    "(df['gpa']).dtype"
   ]
  },
  {
   "cell_type": "code",
   "execution_count": 15,
   "metadata": {},
   "outputs": [
    {
     "data": {
      "text/plain": [
       "<matplotlib.axes._subplots.AxesSubplot at 0x7f9e68e54450>"
      ]
     },
     "execution_count": 15,
     "metadata": {},
     "output_type": "execute_result"
    },
    {
     "data": {
      "image/png": "[encoded data removed]",
      "text/plain": [
       "<Figure size 432x288 with 1 Axes>"
      ]
     },
     "metadata": {
      "needs_background": "light"
     },
     "output_type": "display_data"
    }
   ],
   "source": [
    "df['gpa'].plot.kde()"
   ]
  },
  {
   "cell_type": "code",
   "execution_count": 7,
   "metadata": {},
   "outputs": [],
   "source": [
    "dummies = pd.get_dummies(df['school'], drop_first=True)\n",
    "df = pd.concat([df, dummies], axis=1)"
   ]
  },
  {
   "cell_type": "code",
   "execution_count": 8,
   "metadata": {},
   "outputs": [
    {
     "data": {
      "text/html": [
       "<div>\n",
       "<style scoped>\n",
       "    .dataframe tbody tr th:only-of-type {\n",
       "        vertical-align: middle;\n",
       "    }\n",
       "\n",
       "    .dataframe tbody tr th {\n",
       "        vertical-align: top;\n",
       "    }\n",
       "\n",
       "    .dataframe thead th {\n",
       "        text-align: right;\n",
       "    }\n",
       "</style>\n",
       "<table border=\"1\" class=\"dataframe\">\n",
       "  <thead>\n",
       "    <tr style=\"text-align: right;\">\n",
       "      <th></th>\n",
       "      <th>id</th>\n",
       "      <th>credits</th>\n",
       "      <th>gpa</th>\n",
       "      <th>school</th>\n",
       "      <th>score</th>\n",
       "      <th>interview</th>\n",
       "      <th>Clark</th>\n",
       "      <th>Smith</th>\n",
       "    </tr>\n",
       "  </thead>\n",
       "  <tbody>\n",
       "    <tr>\n",
       "      <td>0</td>\n",
       "      <td>1757</td>\n",
       "      <td>15</td>\n",
       "      <td>3.55</td>\n",
       "      <td>CMNS</td>\n",
       "      <td>3.5</td>\n",
       "      <td>1</td>\n",
       "      <td>0</td>\n",
       "      <td>0</td>\n",
       "    </tr>\n",
       "    <tr>\n",
       "      <td>1</td>\n",
       "      <td>1760</td>\n",
       "      <td>15</td>\n",
       "      <td>4.00</td>\n",
       "      <td>CMNS</td>\n",
       "      <td>4.0</td>\n",
       "      <td>1</td>\n",
       "      <td>0</td>\n",
       "      <td>0</td>\n",
       "    </tr>\n",
       "    <tr>\n",
       "      <td>2</td>\n",
       "      <td>1761</td>\n",
       "      <td>15</td>\n",
       "      <td>3.45</td>\n",
       "      <td>Clark</td>\n",
       "      <td>4.5</td>\n",
       "      <td>1</td>\n",
       "      <td>1</td>\n",
       "      <td>0</td>\n",
       "    </tr>\n",
       "    <tr>\n",
       "      <td>3</td>\n",
       "      <td>1762</td>\n",
       "      <td>18</td>\n",
       "      <td>3.40</td>\n",
       "      <td>Clark</td>\n",
       "      <td>4.5</td>\n",
       "      <td>1</td>\n",
       "      <td>1</td>\n",
       "      <td>0</td>\n",
       "    </tr>\n",
       "    <tr>\n",
       "      <td>4</td>\n",
       "      <td>1763</td>\n",
       "      <td>19</td>\n",
       "      <td>3.38</td>\n",
       "      <td>Smith</td>\n",
       "      <td>2.5</td>\n",
       "      <td>0</td>\n",
       "      <td>0</td>\n",
       "      <td>1</td>\n",
       "    </tr>\n",
       "  </tbody>\n",
       "</table>\n",
       "</div>"
      ],
      "text/plain": [
       "     id  credits   gpa school  score  interview  Clark  Smith\n",
       "0  1757       15  3.55   CMNS    3.5          1      0      0\n",
       "1  1760       15  4.00   CMNS    4.0          1      0      0\n",
       "2  1761       15  3.45  Clark    4.5          1      1      0\n",
       "3  1762       18  3.40  Clark    4.5          1      1      0\n",
       "4  1763       19  3.38  Smith    2.5          0      0      1"
      ]
     },
     "execution_count": 8,
     "metadata": {},
     "output_type": "execute_result"
    }
   ],
   "source": [
    "df.head()"
   ]
  },
  {
   "cell_type": "code",
   "execution_count": 9,
   "metadata": {},
   "outputs": [
    {
     "data": {
      "text/plain": [
       "<matplotlib.axes._subplots.AxesSubplot at 0x7f9e68d66ed0>"
      ]
     },
     "execution_count": 9,
     "metadata": {},
     "output_type": "execute_result"
    },
    {
     "data": {
      "image/png": "[encoded data removed]",
      "text/plain": [
       "<Figure size 432x288 with 1 Axes>"
      ]
     },
     "metadata": {
      "needs_background": "light"
     },
     "output_type": "display_data"
    }
   ],
   "source": [
    "# if we look at the depenendent variable, we should\n",
    "# see that it is bimodal\n",
    "df[\"interview\"].plot.kde()"
   ]
  },
  {
   "cell_type": "code",
   "execution_count": 10,
   "metadata": {},
   "outputs": [
    {
     "data": {
      "text/html": [
       "<div>\n",
       "<style scoped>\n",
       "    .dataframe tbody tr th:only-of-type {\n",
       "        vertical-align: middle;\n",
       "    }\n",
       "\n",
       "    .dataframe tbody tr th {\n",
       "        vertical-align: top;\n",
       "    }\n",
       "\n",
       "    .dataframe thead th {\n",
       "        text-align: right;\n",
       "    }\n",
       "</style>\n",
       "<table border=\"1\" class=\"dataframe\">\n",
       "  <thead>\n",
       "    <tr style=\"text-align: right;\">\n",
       "      <th></th>\n",
       "      <th>id</th>\n",
       "      <th>credits</th>\n",
       "      <th>gpa</th>\n",
       "      <th>score</th>\n",
       "      <th>interview</th>\n",
       "      <th>Clark</th>\n",
       "      <th>Smith</th>\n",
       "    </tr>\n",
       "  </thead>\n",
       "  <tbody>\n",
       "    <tr>\n",
       "      <td>count</td>\n",
       "      <td>223.000000</td>\n",
       "      <td>223.000000</td>\n",
       "      <td>223.000000</td>\n",
       "      <td>223.000000</td>\n",
       "      <td>223.000000</td>\n",
       "      <td>223.000000</td>\n",
       "      <td>223.000000</td>\n",
       "    </tr>\n",
       "    <tr>\n",
       "      <td>mean</td>\n",
       "      <td>1978.551570</td>\n",
       "      <td>18.591928</td>\n",
       "      <td>3.655247</td>\n",
       "      <td>3.341555</td>\n",
       "      <td>0.645740</td>\n",
       "      <td>0.269058</td>\n",
       "      <td>0.417040</td>\n",
       "    </tr>\n",
       "    <tr>\n",
       "      <td>std</td>\n",
       "      <td>141.772517</td>\n",
       "      <td>8.696034</td>\n",
       "      <td>0.306804</td>\n",
       "      <td>0.863019</td>\n",
       "      <td>0.479365</td>\n",
       "      <td>0.444468</td>\n",
       "      <td>0.494179</td>\n",
       "    </tr>\n",
       "    <tr>\n",
       "      <td>min</td>\n",
       "      <td>1757.000000</td>\n",
       "      <td>0.000000</td>\n",
       "      <td>2.410000</td>\n",
       "      <td>0.000000</td>\n",
       "      <td>0.000000</td>\n",
       "      <td>0.000000</td>\n",
       "      <td>0.000000</td>\n",
       "    </tr>\n",
       "    <tr>\n",
       "      <td>25%</td>\n",
       "      <td>1864.500000</td>\n",
       "      <td>15.000000</td>\n",
       "      <td>3.465000</td>\n",
       "      <td>3.000000</td>\n",
       "      <td>0.000000</td>\n",
       "      <td>0.000000</td>\n",
       "      <td>0.000000</td>\n",
       "    </tr>\n",
       "    <tr>\n",
       "      <td>50%</td>\n",
       "      <td>1953.000000</td>\n",
       "      <td>16.000000</td>\n",
       "      <td>3.720000</td>\n",
       "      <td>3.500000</td>\n",
       "      <td>1.000000</td>\n",
       "      <td>0.000000</td>\n",
       "      <td>0.000000</td>\n",
       "    </tr>\n",
       "    <tr>\n",
       "      <td>75%</td>\n",
       "      <td>2086.500000</td>\n",
       "      <td>17.000000</td>\n",
       "      <td>3.920000</td>\n",
       "      <td>4.000000</td>\n",
       "      <td>1.000000</td>\n",
       "      <td>1.000000</td>\n",
       "      <td>1.000000</td>\n",
       "    </tr>\n",
       "    <tr>\n",
       "      <td>max</td>\n",
       "      <td>2277.000000</td>\n",
       "      <td>60.000000</td>\n",
       "      <td>4.000000</td>\n",
       "      <td>5.000000</td>\n",
       "      <td>1.000000</td>\n",
       "      <td>1.000000</td>\n",
       "      <td>1.000000</td>\n",
       "    </tr>\n",
       "  </tbody>\n",
       "</table>\n",
       "</div>"
      ],
      "text/plain": [
       "                id     credits         gpa       score   interview  \\\n",
       "count   223.000000  223.000000  223.000000  223.000000  223.000000   \n",
       "mean   1978.551570   18.591928    3.655247    3.341555    0.645740   \n",
       "std     141.772517    8.696034    0.306804    0.863019    0.479365   \n",
       "min    1757.000000    0.000000    2.410000    0.000000    0.000000   \n",
       "25%    1864.500000   15.000000    3.465000    3.000000    0.000000   \n",
       "50%    1953.000000   16.000000    3.720000    3.500000    1.000000   \n",
       "75%    2086.500000   17.000000    3.920000    4.000000    1.000000   \n",
       "max    2277.000000   60.000000    4.000000    5.000000    1.000000   \n",
       "\n",
       "            Clark       Smith  \n",
       "count  223.000000  223.000000  \n",
       "mean     0.269058    0.417040  \n",
       "std      0.444468    0.494179  \n",
       "min      0.000000    0.000000  \n",
       "25%      0.000000    0.000000  \n",
       "50%      0.000000    0.000000  \n",
       "75%      1.000000    1.000000  \n",
       "max      1.000000    1.000000  "
      ]
     },
     "execution_count": 10,
     "metadata": {},
     "output_type": "execute_result"
    }
   ],
   "source": [
    "df.describe()"
   ]
  },
  {
   "cell_type": "code",
   "execution_count": 11,
   "metadata": {},
   "outputs": [
    {
     "data": {
      "text/html": [
       "<div>\n",
       "<style scoped>\n",
       "    .dataframe tbody tr th:only-of-type {\n",
       "        vertical-align: middle;\n",
       "    }\n",
       "\n",
       "    .dataframe tbody tr th {\n",
       "        vertical-align: top;\n",
       "    }\n",
       "\n",
       "    .dataframe thead th {\n",
       "        text-align: right;\n",
       "    }\n",
       "</style>\n",
       "<table border=\"1\" class=\"dataframe\">\n",
       "  <thead>\n",
       "    <tr style=\"text-align: right;\">\n",
       "      <th></th>\n",
       "      <th>score</th>\n",
       "      <th>credits</th>\n",
       "      <th>gpa</th>\n",
       "      <th>Clark</th>\n",
       "      <th>Smith</th>\n",
       "    </tr>\n",
       "  </thead>\n",
       "  <tbody>\n",
       "    <tr>\n",
       "      <td>score</td>\n",
       "      <td>1.000000</td>\n",
       "      <td>0.071874</td>\n",
       "      <td>0.138119</td>\n",
       "      <td>0.142954</td>\n",
       "      <td>-0.097852</td>\n",
       "    </tr>\n",
       "    <tr>\n",
       "      <td>credits</td>\n",
       "      <td>0.071874</td>\n",
       "      <td>1.000000</td>\n",
       "      <td>0.021185</td>\n",
       "      <td>0.063498</td>\n",
       "      <td>-0.066088</td>\n",
       "    </tr>\n",
       "    <tr>\n",
       "      <td>gpa</td>\n",
       "      <td>0.138119</td>\n",
       "      <td>0.021185</td>\n",
       "      <td>1.000000</td>\n",
       "      <td>0.015697</td>\n",
       "      <td>-0.032025</td>\n",
       "    </tr>\n",
       "    <tr>\n",
       "      <td>Clark</td>\n",
       "      <td>0.142954</td>\n",
       "      <td>0.063498</td>\n",
       "      <td>0.015697</td>\n",
       "      <td>1.000000</td>\n",
       "      <td>-0.513159</td>\n",
       "    </tr>\n",
       "    <tr>\n",
       "      <td>Smith</td>\n",
       "      <td>-0.097852</td>\n",
       "      <td>-0.066088</td>\n",
       "      <td>-0.032025</td>\n",
       "      <td>-0.513159</td>\n",
       "      <td>1.000000</td>\n",
       "    </tr>\n",
       "  </tbody>\n",
       "</table>\n",
       "</div>"
      ],
      "text/plain": [
       "            score   credits       gpa     Clark     Smith\n",
       "score    1.000000  0.071874  0.138119  0.142954 -0.097852\n",
       "credits  0.071874  1.000000  0.021185  0.063498 -0.066088\n",
       "gpa      0.138119  0.021185  1.000000  0.015697 -0.032025\n",
       "Clark    0.142954  0.063498  0.015697  1.000000 -0.513159\n",
       "Smith   -0.097852 -0.066088 -0.032025 -0.513159  1.000000"
      ]
     },
     "execution_count": 11,
     "metadata": {},
     "output_type": "execute_result"
    }
   ],
   "source": [
    "# let's take a look at the correlation matrix of independent variables\n",
    "YVar = df[[\"interview\"]] # this is our dependent variable\n",
    "XVar = df[[\"score\", \"credits\", \"gpa\", \"Clark\", \"Smith\"]] # these are our independent variables\n",
    "XVar.corr()"
   ]
  },
  {
   "cell_type": "code",
   "execution_count": 12,
   "metadata": {},
   "outputs": [
    {
     "name": "stdout",
     "output_type": "stream",
     "text": [
      "Optimization terminated successfully.\n",
      "         Current function value: 0.471757\n",
      "         Iterations 6\n",
      "                           Logit Regression Results                           \n",
      "==============================================================================\n",
      "Dep. Variable:              interview   No. Observations:                  223\n",
      "Model:                          Logit   Df Residuals:                      218\n",
      "Method:                           MLE   Df Model:                            4\n",
      "Date:                Thu, 29 Oct 2020   Pseudo R-squ.:                  0.2743\n",
      "Time:                        14:27:54   Log-Likelihood:                -105.20\n",
      "converged:                       True   LL-Null:                       -144.96\n",
      "Covariance Type:            nonrobust   LLR p-value:                 2.206e-16\n",
      "==============================================================================\n",
      "                 coef    std err          z      P>|z|      [0.025      0.975]\n",
      "------------------------------------------------------------------------------\n",
      "score          1.8954      0.286      6.633      0.000       1.335       2.455\n",
      "credits        0.0017      0.020      0.086      0.932      -0.037       0.040\n",
      "gpa           -1.4600      0.263     -5.560      0.000      -1.975      -0.945\n",
      "Clark         -0.0189      0.467     -0.040      0.968      -0.935       0.897\n",
      "Smith         -0.2556      0.395     -0.647      0.518      -1.030       0.519\n",
      "==============================================================================\n"
     ]
    }
   ],
   "source": [
    "# let's now do a logistic regression where we try to predict whether or not the applicant\n",
    "# gets an interview\n",
    "LogisticModel = sm.Logit(YVar, XVar).fit() # this is the logistic regression\n",
    "print(LogisticModel.summary()) # this prints out the results of the model"
   ]
  },
  {
   "cell_type": "code",
   "execution_count": 16,
   "metadata": {},
   "outputs": [],
   "source": [
    "df['score_gpa']=df['score']*df['gpa']"
   ]
  },
  {
   "cell_type": "code",
   "execution_count": 22,
   "metadata": {},
   "outputs": [
    {
     "data": {
      "text/html": [
       "<div>\n",
       "<style scoped>\n",
       "    .dataframe tbody tr th:only-of-type {\n",
       "        vertical-align: middle;\n",
       "    }\n",
       "\n",
       "    .dataframe tbody tr th {\n",
       "        vertical-align: top;\n",
       "    }\n",
       "\n",
       "    .dataframe thead th {\n",
       "        text-align: right;\n",
       "    }\n",
       "</style>\n",
       "<table border=\"1\" class=\"dataframe\">\n",
       "  <thead>\n",
       "    <tr style=\"text-align: right;\">\n",
       "      <th></th>\n",
       "      <th>id</th>\n",
       "      <th>score</th>\n",
       "      <th>credits</th>\n",
       "      <th>gpa</th>\n",
       "      <th>Clark</th>\n",
       "      <th>Smith</th>\n",
       "      <th>score_gpa</th>\n",
       "    </tr>\n",
       "  </thead>\n",
       "  <tbody>\n",
       "    <tr>\n",
       "      <td>id</td>\n",
       "      <td>1.000000</td>\n",
       "      <td>-0.233167</td>\n",
       "      <td>0.039472</td>\n",
       "      <td>-0.228626</td>\n",
       "      <td>-0.121388</td>\n",
       "      <td>0.091343</td>\n",
       "      <td>-0.282676</td>\n",
       "    </tr>\n",
       "    <tr>\n",
       "      <td>score</td>\n",
       "      <td>-0.233167</td>\n",
       "      <td>1.000000</td>\n",
       "      <td>0.071874</td>\n",
       "      <td>0.138119</td>\n",
       "      <td>0.142954</td>\n",
       "      <td>-0.097852</td>\n",
       "      <td>0.954255</td>\n",
       "    </tr>\n",
       "    <tr>\n",
       "      <td>credits</td>\n",
       "      <td>0.039472</td>\n",
       "      <td>0.071874</td>\n",
       "      <td>1.000000</td>\n",
       "      <td>0.021185</td>\n",
       "      <td>0.063498</td>\n",
       "      <td>-0.066088</td>\n",
       "      <td>0.077248</td>\n",
       "    </tr>\n",
       "    <tr>\n",
       "      <td>gpa</td>\n",
       "      <td>-0.228626</td>\n",
       "      <td>0.138119</td>\n",
       "      <td>0.021185</td>\n",
       "      <td>1.000000</td>\n",
       "      <td>0.015697</td>\n",
       "      <td>-0.032025</td>\n",
       "      <td>0.419470</td>\n",
       "    </tr>\n",
       "    <tr>\n",
       "      <td>Clark</td>\n",
       "      <td>-0.121388</td>\n",
       "      <td>0.142954</td>\n",
       "      <td>0.063498</td>\n",
       "      <td>0.015697</td>\n",
       "      <td>1.000000</td>\n",
       "      <td>-0.513159</td>\n",
       "      <td>0.125463</td>\n",
       "    </tr>\n",
       "    <tr>\n",
       "      <td>Smith</td>\n",
       "      <td>0.091343</td>\n",
       "      <td>-0.097852</td>\n",
       "      <td>-0.066088</td>\n",
       "      <td>-0.032025</td>\n",
       "      <td>-0.513159</td>\n",
       "      <td>1.000000</td>\n",
       "      <td>-0.094237</td>\n",
       "    </tr>\n",
       "    <tr>\n",
       "      <td>score_gpa</td>\n",
       "      <td>-0.282676</td>\n",
       "      <td>0.954255</td>\n",
       "      <td>0.077248</td>\n",
       "      <td>0.419470</td>\n",
       "      <td>0.125463</td>\n",
       "      <td>-0.094237</td>\n",
       "      <td>1.000000</td>\n",
       "    </tr>\n",
       "  </tbody>\n",
       "</table>\n",
       "</div>"
      ],
      "text/plain": [
       "                 id     score   credits       gpa     Clark     Smith  \\\n",
       "id         1.000000 -0.233167  0.039472 -0.228626 -0.121388  0.091343   \n",
       "score     -0.233167  1.000000  0.071874  0.138119  0.142954 -0.097852   \n",
       "credits    0.039472  0.071874  1.000000  0.021185  0.063498 -0.066088   \n",
       "gpa       -0.228626  0.138119  0.021185  1.000000  0.015697 -0.032025   \n",
       "Clark     -0.121388  0.142954  0.063498  0.015697  1.000000 -0.513159   \n",
       "Smith      0.091343 -0.097852 -0.066088 -0.032025 -0.513159  1.000000   \n",
       "score_gpa -0.282676  0.954255  0.077248  0.419470  0.125463 -0.094237   \n",
       "\n",
       "           score_gpa  \n",
       "id         -0.282676  \n",
       "score       0.954255  \n",
       "credits     0.077248  \n",
       "gpa         0.419470  \n",
       "Clark       0.125463  \n",
       "Smith      -0.094237  \n",
       "score_gpa   1.000000  "
      ]
     },
     "execution_count": 22,
     "metadata": {},
     "output_type": "execute_result"
    }
   ],
   "source": [
    "YVar = df[[\"interview\"]] # this is our dependent variable\n",
    "XVar = df[[\"id\", \"score\", \"credits\", \"gpa\", \"Clark\", \"Smith\", \"score_gpa\"]] # these are our independent variables\n",
    "XVar.corr()"
   ]
  },
  {
   "cell_type": "code",
   "execution_count": 18,
   "metadata": {},
   "outputs": [
    {
     "name": "stdout",
     "output_type": "stream",
     "text": [
      "Optimization terminated successfully.\n",
      "         Current function value: 0.431743\n",
      "         Iterations 7\n",
      "                           Logit Regression Results                           \n",
      "==============================================================================\n",
      "Dep. Variable:              interview   No. Observations:                  223\n",
      "Model:                          Logit   Df Residuals:                      217\n",
      "Method:                           MLE   Df Model:                            5\n",
      "Date:                Thu, 29 Oct 2020   Pseudo R-squ.:                  0.3358\n",
      "Time:                        14:36:03   Log-Likelihood:                -96.279\n",
      "converged:                       True   LL-Null:                       -144.96\n",
      "Covariance Type:            nonrobust   LLR p-value:                 1.900e-19\n",
      "==============================================================================\n",
      "                 coef    std err          z      P>|z|      [0.025      0.975]\n",
      "------------------------------------------------------------------------------\n",
      "score         -0.7329      0.665     -1.101      0.271      -2.037       0.571\n",
      "credits        0.0179      0.023      0.782      0.434      -0.027       0.063\n",
      "gpa           -1.8546      0.309     -6.009      0.000      -2.460      -1.250\n",
      "Clark          0.0803      0.487      0.165      0.869      -0.874       1.035\n",
      "Smith         -0.0792      0.417     -0.190      0.849      -0.896       0.738\n",
      "score_gpa      0.8085      0.201      4.027      0.000       0.415       1.202\n",
      "==============================================================================\n"
     ]
    }
   ],
   "source": [
    "LogisticModel = sm.Logit(YVar, XVar).fit() # this is the logistic regression\n",
    "print(LogisticModel.summary()) # this prints out the results of the model"
   ]
  },
  {
   "cell_type": "code",
   "execution_count": 20,
   "metadata": {},
   "outputs": [
    {
     "data": {
      "text/plain": [
       "0.29338348104039147"
      ]
     },
     "execution_count": 20,
     "metadata": {},
     "output_type": "execute_result"
    }
   ],
   "source": [
    "df['id'].skew()"
   ]
  },
  {
   "cell_type": "code",
   "execution_count": 21,
   "metadata": {},
   "outputs": [
    {
     "data": {
      "text/plain": [
       "<matplotlib.axes._subplots.AxesSubplot at 0x7f9e691c7e10>"
      ]
     },
     "execution_count": 21,
     "metadata": {},
     "output_type": "execute_result"
    },
    {
     "data": {
      "image/png": "[encoded data removed]",
      "text/plain": [
       "<Figure size 432x288 with 1 Axes>"
      ]
     },
     "metadata": {
      "needs_background": "light"
     },
     "output_type": "display_data"
    }
   ],
   "source": [
    "df['id'].plot.kde()"
   ]
  },
  {
   "cell_type": "code",
   "execution_count": null,
   "metadata": {},
   "outputs": [],
   "source": []
  }
 ],
 "metadata": {
  "kernelspec": {
   "display_name": "Python 3",
   "language": "python",
   "name": "python3"
  },
  "language_info": {
   "codemirror_mode": {
    "name": "ipython",
    "version": 3
   },
   "file_extension": ".py",
   "mimetype": "text/x-python",
   "name": "python",
   "nbconvert_exporter": "python",
   "pygments_lexer": "ipython3",
   "version": "3.7.4"
  }
 },
 "nbformat": 4,
 "nbformat_minor": 2
}
