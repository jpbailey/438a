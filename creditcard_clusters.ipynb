{
 "cells": [
  {
   "cell_type": "code",
   "execution_count": null,
   "metadata": {},
   "outputs": [],
   "source": [
    "# import the appropriate libraries\n",
    "import pandas as pd\n",
    "import statsmodels.api as sm\n",
    "import numpy as np\n",
    "import matplotlib.pyplot as plt\n",
    "from sklearn.cluster import KMeans"
   ]
  },
  {
   "cell_type": "code",
   "execution_count": null,
   "metadata": {},
   "outputs": [],
   "source": [
    "# load the CSV file taken from  https://www.kaggle.com/arjunbhasin2013/ccdata\n",
    "df = pd.read_csv(\"~/Desktop/CC GENERAL.csv\")"
   ]
  },
  {
   "cell_type": "markdown",
   "metadata": {},
   "source": [
    "# Data dictionary\n",
    "https://www.kaggle.com/arjunbhasin2013/ccdata\n",
    "\n",
    "<ul>\n",
    "<li>CUST_ID : Identification of Credit Card holder (Categorical)</li>\n",
    "<li>BALANCE : Balance amount left in their account to make purchases</li>\n",
    "<li>BALANCE_FREQUENCY : How frequently the Balance is updated, score between 0 and 1 (1 = frequently updated, 0 = not frequently updated)</li>\n",
    "<li>PURCHASES : Amount of purchases made from account</li>\n",
    "<li>ONEOFF_PURCHASES : Maximum purchase amount done in one-go</li>\n",
    "<li>INSTALLMENTS_PURCHASES : Amount of purchase done in installment</li>\n",
    "<li>CASH_ADVANCE : Cash in advance given by the user</li>\n",
    "<li>PURCHASES_FREQUENCY : How frequently the Purchases are being made, score between 0 and 1 (1 = frequently purchased, 0 = not frequently purchased)</li>\n",
    "<li>ONEOFFPURCHASESFREQUENCY : How frequently Purchases are happening in one-go (1 = frequently purchased, 0 = not frequently purchased)</li>\n",
    "<li>PURCHASESINSTALLMENTSFREQUENCY : How frequently purchases in installments are being done (1 = frequently done, 0 = not frequently done)</li>\n",
    "<li>CASHADVANCEFREQUENCY : How frequently the cash in advance being paid\n",
    "<li>CASHADVANCETRX : Number of Transactions made with \"Cash in Advanced\"</li>\n",
    "<li>PURCHASES_TRX : Numbe of purchase transactions made</li>\n",
    "<li>CREDIT_LIMIT : Limit of Credit Card for user</li>\n",
    "<li>PAYMENTS : Amount of Payment done by user</li>\n",
    "<li>MINIMUM_PAYMENTS : Minimum amount of payments made by user</li>\n",
    "<li>PRCFULLPAYMENT : Percent of full payment paid by user</li>\n",
    "<li>TENURE : Tenure of credit card service for user</li>\n",
    "</ul>"
   ]
  },
  {
   "cell_type": "code",
   "execution_count": null,
   "metadata": {},
   "outputs": [],
   "source": [
    "df.columns = df.columns.str.strip().str.lower().str.replace(' ', '_').str.replace('(', '').str.replace(')', '').str.replace('-', '_')\n",
    "df = df.dropna()\n",
    "df.columns\n",
    "df"
   ]
  },
  {
   "cell_type": "code",
   "execution_count": null,
   "metadata": {},
   "outputs": [],
   "source": [
    "# let's explore the variables to see what might be interesting\n",
    "# are there any variables that need to be transformed because\n",
    "# they are not normally distributed?  (e.g. balance, purchases)\n",
    "df['ln_balance'] = np.log(df['balance'] + 1)\n",
    "df['ln_purchases'] = np.log(df['purchases'] + 1)\n",
    "plt.scatter(df['ln_balance'], df['ln_purchases'])\n",
    "plt.show()"
   ]
  },
  {
   "cell_type": "code",
   "execution_count": null,
   "metadata": {},
   "outputs": [],
   "source": [
    "# we now move to looking at how a clustering approach might work\n",
    "# let's use the same two dependent variables and try to create 4 clusters\n",
    "dfc = df[['ln_balance','ln_purchases']]\n",
    "kmeans = KMeans(n_clusters=4)\n",
    "kmeans.fit(dfc)\n",
    "clusters = kmeans.cluster_centers_\n",
    "clusters # shows the centroid of the clusters"
   ]
  },
  {
   "cell_type": "code",
   "execution_count": null,
   "metadata": {},
   "outputs": [],
   "source": [
    "# now we can plot the data along with the centroids\n",
    "# can you do better?\n",
    "plt.scatter(dfc['ln_balance'],dfc['ln_purchases'])\n",
    "plt.scatter(clusters[0][0],clusters[0][1], marker=\"*\", s=200)\n",
    "plt.scatter(clusters[1][0],clusters[1][1], marker=\"*\", s=200)\n",
    "plt.scatter(clusters[2][0],clusters[2][1], marker=\"*\", s=200)\n",
    "plt.scatter(clusters[3][0],clusters[3][1], marker=\"*\", s=200)\n",
    "plt.show()"
   ]
  },
  {
   "cell_type": "code",
   "execution_count": null,
   "metadata": {},
   "outputs": [],
   "source": []
  }
 ],
 "metadata": {
  "kernelspec": {
   "display_name": "Python 3",
   "language": "python",
   "name": "python3"
  },
  "language_info": {
   "codemirror_mode": {
    "name": "ipython",
    "version": 3
   },
   "file_extension": ".py",
   "mimetype": "text/x-python",
   "name": "python",
   "nbconvert_exporter": "python",
   "pygments_lexer": "ipython3",
   "version": "3.7.4"
  }
 },
 "nbformat": 4,
 "nbformat_minor": 2
}
