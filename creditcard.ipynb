{
 "cells": [
  {
   "cell_type": "code",
   "execution_count": null,
   "metadata": {},
   "outputs": [],
   "source": [
    "# import the appropriate libraries\n",
    "import pandas as pd\n",
    "import statsmodels.api as sm\n",
    "import numpy as np\n",
    "import matplotlib.pyplot as plt"
   ]
  },
  {
   "cell_type": "code",
   "execution_count": null,
   "metadata": {},
   "outputs": [],
   "source": [
    "# load the CSV file taken from  https://www.kaggle.com/arjunbhasin2013/ccdata\n",
    "df = pd.read_csv(\"~/Desktop/CC GENERAL.csv\")"
   ]
  },
  {
   "cell_type": "markdown",
   "metadata": {},
   "source": [
    "# Data dictionary\n",
    "https://www.kaggle.com/arjunbhasin2013/ccdata\n",
    "\n",
    "<ul>\n",
    "<li>CUST_ID : Identification of Credit Card holder (Categorical)</li>\n",
    "<li>BALANCE : Balance amount left in their account to make purchases</li>\n",
    "<li>BALANCE_FREQUENCY : How frequently the Balance is updated, score between 0 and 1 (1 = frequently updated, 0 = not frequently updated)</li>\n",
    "<li>PURCHASES : Amount of purchases made from account</li>\n",
    "<li>ONEOFF_PURCHASES : Maximum purchase amount done in one-go</li>\n",
    "<li>INSTALLMENTS_PURCHASES : Amount of purchase done in installment</li>\n",
    "<li>CASH_ADVANCE : Cash in advance given by the user</li>\n",
    "<li>PURCHASES_FREQUENCY : How frequently the Purchases are being made, score between 0 and 1 (1 = frequently purchased, 0 = not frequently purchased)</li>\n",
    "<li>ONEOFFPURCHASESFREQUENCY : How frequently Purchases are happening in one-go (1 = frequently purchased, 0 = not frequently purchased)</li>\n",
    "<li>PURCHASESINSTALLMENTSFREQUENCY : How frequently purchases in installments are being done (1 = frequently done, 0 = not frequently done)</li>\n",
    "<li>CASHADVANCEFREQUENCY : How frequently the cash in advance being paid\n",
    "<li>CASHADVANCETRX : Number of Transactions made with \"Cash in Advanced\"</li>\n",
    "<li>PURCHASES_TRX : Numbe of purchase transactions made</li>\n",
    "<li>CREDIT_LIMIT : Limit of Credit Card for user</li>\n",
    "<li>PAYMENTS : Amount of Payment done by user</li>\n",
    "<li>MINIMUM_PAYMENTS : Minimum amount of payments made by user</li>\n",
    "<li>PRCFULLPAYMENT : Percent of full payment paid by user</li>\n",
    "<li>TENURE : Tenure of credit card service for user</li>\n",
    "</ul>"
   ]
  },
  {
   "cell_type": "code",
   "execution_count": null,
   "metadata": {},
   "outputs": [],
   "source": [
    "df.columns = df.columns.str.strip().str.lower().str.replace(' ', '_').str.replace('(', '').str.replace(')', '').str.replace('-', '_')\n",
    "df = df.dropna()\n",
    "df.columns\n",
    "df"
   ]
  },
  {
   "cell_type": "code",
   "execution_count": null,
   "metadata": {},
   "outputs": [],
   "source": [
    "# let's explore the variables to see what might be interesting\n",
    "# are there any variables that need to be transformed because\n",
    "# they are not normally distributed?  (e.g. balance, purchases)\n",
    "df['ln_balance'] = np.log(df['balance'] + 1)\n",
    "df['ln_purchases'] = np.log(df['purchases'] + 1)\n",
    "plt.scatter(df['ln_balance'], df['ln_purchases'])\n",
    "plt.show()"
   ]
  },
  {
   "cell_type": "code",
   "execution_count": null,
   "metadata": {},
   "outputs": [],
   "source": [
    "# change one of the variables to a binary variable to put\n",
    "# the users into two buckets\n",
    "# do a box plot of how these two buckets are different\n",
    "df['paid_in_full'] = np.where(df['installments_purchases']==0, 1, 0)\n",
    "# boxplot = df.boxplot(column=['purchases_frequency'], by='paid_in_full')\n",
    "# plt.scatter(df['purchases_frequency'],df['tenure'])\n",
    "col = np.where(df['paid_in_full'] ==1,'r',np.where(df['paid_in_full']==0,'b','r'))\n",
    "plt.scatter(df['ln_balance'], df['ln_purchases'], c=col)\n",
    "plt.show()"
   ]
  },
  {
   "cell_type": "code",
   "execution_count": null,
   "metadata": {},
   "outputs": [],
   "source": [
    "# we now want to take the full sample and build and test a model\n",
    "# accordingly, we need to randomly take just 80% of the sample\n",
    "# to help train the model and then have 20% of the sample for a\n",
    "# testing sample; the way we will do this is to create a random variable\n",
    "# in the full dataframe and then take 80% of the dataframe and put\n",
    "# it into a training dataframe and put the remaining 20% of the full\n",
    "# dataframe into a testing dataframe\n",
    "df['mask'] = [np.random.uniform(0,1)  for k in df.index]\n",
    "train = df[df['mask'] < 0.8]\n",
    "test = df[df['mask']>= 0.8]\n",
    "test"
   ]
  },
  {
   "cell_type": "code",
   "execution_count": null,
   "metadata": {},
   "outputs": [],
   "source": [
    "# let's create a logistic regression trying to predict our dependent\n",
    "# binary variable\n",
    "YTrain = train[['paid_in_full']]\n",
    "XTrain = train[['ln_balance', 'ln_purchases']]\n",
    "LogisticModel = sm.Logit(YTrain, XTrain).fit()\n",
    "print(LogisticModel.summary())"
   ]
  },
  {
   "cell_type": "code",
   "execution_count": null,
   "metadata": {},
   "outputs": [],
   "source": [
    "# we now use this model to help examine our testing set\n",
    "YTest = test[['paid_in_full']]\n",
    "XTest = test[['ln_balance', 'ln_purchases']]\n",
    "YPred = LogisticModel.predict(XTest)\n",
    "compare = pd.concat([YTest, YPred], axis=1)\n",
    "compare = compare.rename(columns={0: 'prediction'})\n",
    "compare['difference'] = compare['paid_in_full'] - compare['prediction']\n",
    "compare.sort_values(by=['difference']) # similar to the examination of the residuals"
   ]
  },
  {
   "cell_type": "code",
   "execution_count": null,
   "metadata": {},
   "outputs": [],
   "source": [
    "compare['difference'].plot.kde()"
   ]
  },
  {
   "cell_type": "code",
   "execution_count": null,
   "metadata": {},
   "outputs": [],
   "source": [
    "# Notice that by sorting the dataframe called 'compare' by the difference\n",
    "# between the actual and the predicted value, we can see the false positives\n",
    "# at the top and the false negatives at the bottom.\n",
    "# Let's see if we can acutually compute the number of:\n",
    "# true positives\n",
    "# true negatives\n",
    "# false positives\n",
    "# false negatives\n",
    "#\n",
    "# we create a function to examine the difference between the\n",
    "# predicted and actual\n",
    "\n",
    "def rating(difference):\n",
    "    if difference > 0.5:\n",
    "        return \"false negative\"\n",
    "    elif difference >= 0:\n",
    "        return \"true positive\"\n",
    "    elif difference >= -0.5:\n",
    "        return \"true negative\"\n",
    "    else:\n",
    "        return \"false positive\""
   ]
  },
  {
   "cell_type": "code",
   "execution_count": null,
   "metadata": {},
   "outputs": [],
   "source": [
    "# we then use this function to take a look at how well we do\n",
    "compare['type'] = compare.apply(lambda x: rating(x['difference']),axis=1)\n",
    "true_positives = compare[compare['type'] == \"true positive\"].count()[\"type\"]\n",
    "true_negatives = compare[compare['type'] == \"true negative\"].count()[\"type\"]\n",
    "false_positives = compare[compare['type'] == \"false positive\"].count()[\"type\"]\n",
    "false_negatives = compare[compare['type'] == \"false negative\"].count()[\"type\"]\n",
    "print(\"True positives: \", true_positives)\n",
    "print(\"True negatives: \", true_negatives)\n",
    "print(\"False positives: \", false_positives)\n",
    "print(\"False negatives: \", false_negatives)"
   ]
  },
  {
   "cell_type": "code",
   "execution_count": null,
   "metadata": {},
   "outputs": [],
   "source": [
    "print (\"Precision: \",true_positives/(true_positives+false_positives))\n",
    "print (\"Recall: \", (true_positives/(true_positives+false_negatives)))"
   ]
  },
  {
   "cell_type": "code",
   "execution_count": null,
   "metadata": {},
   "outputs": [],
   "source": []
  }
 ],
 "metadata": {
  "kernelspec": {
   "display_name": "Python 3",
   "language": "python",
   "name": "python3"
  },
  "language_info": {
   "codemirror_mode": {
    "name": "ipython",
    "version": 3
   },
   "file_extension": ".py",
   "mimetype": "text/x-python",
   "name": "python",
   "nbconvert_exporter": "python",
   "pygments_lexer": "ipython3",
   "version": "3.7.4"
  }
 },
 "nbformat": 4,
 "nbformat_minor": 2
}
