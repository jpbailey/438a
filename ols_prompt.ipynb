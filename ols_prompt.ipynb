{
 "cells": [
  {
   "cell_type": "code",
   "execution_count": null,
   "metadata": {},
   "outputs": [],
   "source": [
    "# these are our usual librairies\n",
    "# be sure that these load properly\n",
    "# if they don't, you may have to install the libraries\n",
    "# recall that you can install them using commands similar to:\n",
    "# !pip install pandas\n",
    "# !pip install statsmodels\n",
    "import pandas as pd\n",
    "import statsmodels.api as sm"
   ]
  },
  {
   "cell_type": "code",
   "execution_count": null,
   "metadata": {},
   "outputs": [],
   "source": [
    "# be sure to have the csv file collegeadmissions.csv in the same directory as this ipynb\n",
    "df = pd.read_csv(\"~/Desktop/collegeadmissions.csv\")"
   ]
  },
  {
   "cell_type": "code",
   "execution_count": null,
   "metadata": {},
   "outputs": [],
   "source": [
    "# let's drop the missing data"
   ]
  },
  {
   "cell_type": "code",
   "execution_count": null,
   "metadata": {},
   "outputs": [],
   "source": [
    "# let's start with an understanding of the dependent variable\n",
    "# Graduation rate - Bachelor degree within 5 years, total\n",
    "df[\"Graduation rate - Bachelor degree within 5 years, total\"].plot.kde()"
   ]
  },
  {
   "cell_type": "code",
   "execution_count": null,
   "metadata": {},
   "outputs": [],
   "source": [
    "# here is a simple OLS\n",
    "YVar = df[[\"Graduation rate - Bachelor degree within 5 years, total\"]]\n",
    "XVar = df[['Applicants total',\n",
    "         'ACT Composite 75th percentile score']]\n",
    "LinearModel = sm.OLS(YVar, XVar, missing='drop').fit()\n",
    "print(LinearModel.summary())"
   ]
  },
  {
   "cell_type": "code",
   "execution_count": null,
   "metadata": {},
   "outputs": [],
   "source": [
    "# Let's plot the residuals to see how they are distributed\n",
    "LinearModel.resid.plot.kde()"
   ]
  },
  {
   "cell_type": "code",
   "execution_count": null,
   "metadata": {},
   "outputs": [],
   "source": [
    "# let's take a look at the residuals after mapping them to the names\n",
    "# of the colleges or universities\n",
    "residuals = pd.concat([df['name'], LinearModel.resid], axis=1)\n",
    "residuals.sort_values(by=[0])"
   ]
  }
 ],
 "metadata": {
  "kernelspec": {
   "display_name": "Python 3",
   "language": "python",
   "name": "python3"
  },
  "language_info": {
   "codemirror_mode": {
    "name": "ipython",
    "version": 3
   },
   "file_extension": ".py",
   "mimetype": "text/x-python",
   "name": "python",
   "nbconvert_exporter": "python",
   "pygments_lexer": "ipython3",
   "version": "3.8.3"
  }
 },
 "nbformat": 4,
 "nbformat_minor": 2
}
